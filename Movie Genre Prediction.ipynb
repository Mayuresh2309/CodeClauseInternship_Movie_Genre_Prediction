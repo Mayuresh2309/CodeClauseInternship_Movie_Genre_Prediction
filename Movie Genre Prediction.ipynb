{
 "cells": [
  {
   "cell_type": "code",
   "execution_count": 10,
   "id": "0ad9f699-2291-4043-b36f-d2ecb1742e32",
   "metadata": {},
   "outputs": [
    {
     "name": "stderr",
     "output_type": "stream",
     "text": [
      "[nltk_data] Downloading package punkt to\n",
      "[nltk_data]     C:\\Users\\HP\\AppData\\Roaming\\nltk_data...\n",
      "[nltk_data]   Package punkt is already up-to-date!\n",
      "[nltk_data] Downloading package stopwords to\n",
      "[nltk_data]     C:\\Users\\HP\\AppData\\Roaming\\nltk_data...\n",
      "[nltk_data]   Package stopwords is already up-to-date!\n"
     ]
    }
   ],
   "source": [
    "from sklearn.preprocessing import MultiLabelBinarizer\n",
    "from sklearn.feature_extraction.text import TfidfVectorizer\n",
    "import pandas as pd\n",
    "import nltk\n",
    "from nltk.corpus import stopwords\n",
    "from nltk.tokenize import word_tokenize\n",
    "\n",
    "# Load the dataset from the URL\n",
    "url = 'https://raw.githubusercontent.com/sundeepblue/movie_rating_prediction/master/movie_metadata.csv'\n",
    "df = pd.read_csv(url)\n",
    "\n",
    "# Select relevant columns and drop rows with missing values\n",
    "df = df[['plot_keywords', 'genres']].dropna()\n",
    "\n",
    "# Convert genres to a list of strings (if not already)\n",
    "df['genres'] = df['genres'].apply(lambda x: x.split('|'))\n",
    "\n",
    "# Preprocess text in plot_keywords column\n",
    "nltk.download('punkt')\n",
    "nltk.download('stopwords')\n",
    "stop_words = set(stopwords.words('english'))\n",
    "\n",
    "def preprocess_text(text):\n",
    "    text = text.lower()  # Convert to lowercase\n",
    "    tokens = word_tokenize(text)  # Tokenize text\n",
    "    tokens = [token for token in tokens if token.isalpha()]  # Remove punctuation\n",
    "    tokens = [token for token in tokens if token not in stop_words]  # Remove stopwords\n",
    "    return ' '.join(tokens)\n",
    "\n",
    "df['clean_plot_keywords'] = df['plot_keywords'].apply(preprocess_text)\n",
    "\n",
    "# Use MultiLabelBinarizer to convert genres into binary format\n",
    "mlb = MultiLabelBinarizer()\n",
    "y = mlb.fit_transform(df['genres'])\n",
    "\n",
    "# Use TfidfVectorizer for text feature extraction\n",
    "tfidf_vectorizer = TfidfVectorizer(max_features=1000)\n",
    "X = tfidf_vectorizer.fit_transform(df['clean_plot_keywords'])\n"
   ]
  },
  {
   "cell_type": "code",
   "execution_count": 11,
   "id": "661e03e8-b366-4cae-970c-95a0322d977f",
   "metadata": {},
   "outputs": [
    {
     "name": "stdout",
     "output_type": "stream",
     "text": [
      "              precision    recall  f1-score   support\n",
      "\n",
      "      Action       0.46      0.10      0.16       230\n",
      "   Adventure       0.41      0.09      0.15       193\n",
      "   Animation       0.00      0.00      0.00        47\n",
      "   Biography       0.14      0.03      0.05        68\n",
      "      Comedy       0.56      0.26      0.35       372\n",
      "       Crime       0.47      0.11      0.17       171\n",
      " Documentary       0.00      0.00      0.00        21\n",
      "       Drama       0.54      0.80      0.65       503\n",
      "      Family       0.31      0.03      0.06       122\n",
      "     Fantasy       0.35      0.04      0.08       134\n",
      "   Film-Noir       0.00      0.00      0.00         1\n",
      "   Game-Show       0.00      0.00      0.00         0\n",
      "     History       0.10      0.03      0.04        37\n",
      "      Horror       0.48      0.12      0.20       104\n",
      "       Music       0.17      0.03      0.04        40\n",
      "     Musical       0.00      0.00      0.00        23\n",
      "     Mystery       0.38      0.08      0.13       103\n",
      "        News       0.00      0.00      0.00         1\n",
      "  Reality-TV       0.00      0.00      0.00         0\n",
      "     Romance       0.33      0.08      0.12       225\n",
      "      Sci-Fi       0.33      0.11      0.17       117\n",
      "       Short       0.00      0.00      0.00         1\n",
      "       Sport       0.33      0.07      0.11        29\n",
      "    Thriller       0.51      0.15      0.23       282\n",
      "         War       0.50      0.08      0.14        49\n",
      "     Western       0.67      0.09      0.15        23\n",
      "\n",
      "   micro avg       0.50      0.23      0.32      2896\n",
      "   macro avg       0.27      0.09      0.12      2896\n",
      "weighted avg       0.43      0.23      0.25      2896\n",
      " samples avg       0.49      0.26      0.31      2896\n",
      "\n"
     ]
    },
    {
     "name": "stderr",
     "output_type": "stream",
     "text": [
      "C:\\Users\\HP\\AppData\\Local\\Programs\\Python\\Python311\\Lib\\site-packages\\sklearn\\metrics\\_classification.py:1509: UndefinedMetricWarning: Precision is ill-defined and being set to 0.0 in labels with no predicted samples. Use `zero_division` parameter to control this behavior.\n",
      "  _warn_prf(average, modifier, f\"{metric.capitalize()} is\", len(result))\n",
      "C:\\Users\\HP\\AppData\\Local\\Programs\\Python\\Python311\\Lib\\site-packages\\sklearn\\metrics\\_classification.py:1509: UndefinedMetricWarning: Recall is ill-defined and being set to 0.0 in labels with no true samples. Use `zero_division` parameter to control this behavior.\n",
      "  _warn_prf(average, modifier, f\"{metric.capitalize()} is\", len(result))\n",
      "C:\\Users\\HP\\AppData\\Local\\Programs\\Python\\Python311\\Lib\\site-packages\\sklearn\\metrics\\_classification.py:1509: UndefinedMetricWarning: F-score is ill-defined and being set to 0.0 in labels with no true nor predicted samples. Use `zero_division` parameter to control this behavior.\n",
      "  _warn_prf(average, modifier, f\"{metric.capitalize()} is\", len(result))\n",
      "C:\\Users\\HP\\AppData\\Local\\Programs\\Python\\Python311\\Lib\\site-packages\\sklearn\\metrics\\_classification.py:1509: UndefinedMetricWarning: Precision is ill-defined and being set to 0.0 in samples with no predicted labels. Use `zero_division` parameter to control this behavior.\n",
      "  _warn_prf(average, modifier, f\"{metric.capitalize()} is\", len(result))\n"
     ]
    }
   ],
   "source": [
    "from sklearn.model_selection import train_test_split\n",
    "from sklearn.ensemble import RandomForestClassifier\n",
    "from sklearn.metrics import classification_report\n",
    "\n",
    "# Split data into training and testing sets\n",
    "X_train, X_test, y_train, y_test = train_test_split(X, y, test_size=0.2, random_state=42)\n",
    "\n",
    "# Initialize a RandomForestClassifier (or any other classifier of your choice)\n",
    "clf = RandomForestClassifier(random_state=42)\n",
    "\n",
    "# Train the classifier\n",
    "clf.fit(X_train, y_train)\n",
    "\n",
    "# Predict on the test set\n",
    "y_pred = clf.predict(X_test)\n",
    "\n",
    "# Convert predictions back to original genre labels using inverse_transform\n",
    "y_pred_labels = mlb.inverse_transform(y_pred)\n",
    "y_test_labels = mlb.inverse_transform(y_test)\n",
    "\n",
    "# Evaluate the model\n",
    "report = classification_report(y_test, y_pred, target_names=mlb.classes_)\n",
    "print(report)\n"
   ]
  }
 ],
 "metadata": {
  "kernelspec": {
   "display_name": "Python 3 (ipykernel)",
   "language": "python",
   "name": "python3"
  },
  "language_info": {
   "codemirror_mode": {
    "name": "ipython",
    "version": 3
   },
   "file_extension": ".py",
   "mimetype": "text/x-python",
   "name": "python",
   "nbconvert_exporter": "python",
   "pygments_lexer": "ipython3",
   "version": "3.11.9"
  }
 },
 "nbformat": 4,
 "nbformat_minor": 5
}
